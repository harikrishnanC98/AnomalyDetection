{
 "cells": [
  {
   "cell_type": "code",
   "execution_count": 1,
   "id": "819fb65d",
   "metadata": {
    "_cell_guid": "b1076dfc-b9ad-4769-8c92-a6c4dae69d19",
    "_uuid": "8f2839f25d086af736a60e9eeb907d3b93b6e0e5",
    "execution": {
     "iopub.execute_input": "2023-07-07T11:05:45.244019Z",
     "iopub.status.busy": "2023-07-07T11:05:45.243440Z",
     "iopub.status.idle": "2023-07-07T11:05:47.805488Z",
     "shell.execute_reply": "2023-07-07T11:05:47.803927Z"
    },
    "papermill": {
     "duration": 2.570702,
     "end_time": "2023-07-07T11:05:47.808777",
     "exception": false,
     "start_time": "2023-07-07T11:05:45.238075",
     "status": "completed"
    },
    "tags": []
   },
   "outputs": [],
   "source": [
    "import pandas as pd\n",
    "import seaborn as sns\n",
    "from sklearn.ensemble import IsolationForest\n",
    "from sklearn.metrics import accuracy_score, precision_score, recall_score, f1_score, confusion_matrix\n",
    "from sklearn.metrics import classification_report\n",
    "from sklearn.preprocessing import LabelEncoder\n"
   ]
  },
  {
   "cell_type": "code",
   "execution_count": 2,
   "id": "e60172df",
   "metadata": {
    "execution": {
     "iopub.execute_input": "2023-07-07T11:05:47.817333Z",
     "iopub.status.busy": "2023-07-07T11:05:47.816833Z",
     "iopub.status.idle": "2023-07-07T11:06:00.199022Z",
     "shell.execute_reply": "2023-07-07T11:06:00.196627Z"
    },
    "papermill": {
     "duration": 12.390082,
     "end_time": "2023-07-07T11:06:00.202170",
     "exception": false,
     "start_time": "2023-07-07T11:05:47.812088",
     "status": "completed"
    },
    "tags": []
   },
   "outputs": [],
   "source": [
    "df = pd.read_csv('/kaggle/input/fraud-detection/fraudTrain.csv')"
   ]
  },
  {
   "cell_type": "code",
   "execution_count": 3,
   "id": "2da333bd",
   "metadata": {
    "execution": {
     "iopub.execute_input": "2023-07-07T11:06:00.210503Z",
     "iopub.status.busy": "2023-07-07T11:06:00.210120Z",
     "iopub.status.idle": "2023-07-07T11:06:00.645009Z",
     "shell.execute_reply": "2023-07-07T11:06:00.642841Z"
    },
    "papermill": {
     "duration": 0.442638,
     "end_time": "2023-07-07T11:06:00.647630",
     "exception": false,
     "start_time": "2023-07-07T11:06:00.204992",
     "status": "completed"
    },
    "tags": []
   },
   "outputs": [
    {
     "name": "stdout",
     "output_type": "stream",
     "text": [
      "Unnamed: 0                        int64\n",
      "trans_date_trans_time    datetime64[ns]\n",
      "cc_num                            int64\n",
      "merchant                         object\n",
      "category                         object\n",
      "amt                             float64\n",
      "first                            object\n",
      "last                             object\n",
      "gender                           object\n",
      "street                           object\n",
      "city                             object\n",
      "state                            object\n",
      "zip                               int64\n",
      "lat                             float64\n",
      "long                            float64\n",
      "city_pop                          int64\n",
      "job                              object\n",
      "dob                              object\n",
      "trans_num                        object\n",
      "unix_time                         int64\n",
      "merch_lat                       float64\n",
      "merch_long                      float64\n",
      "is_fraud                          int64\n",
      "year                              int64\n",
      "month                             int64\n",
      "dtype: object\n"
     ]
    }
   ],
   "source": [
    "# Extract the desired numerical features from the datetime column\n",
    "df['trans_date_trans_time'] = pd.to_datetime(df['trans_date_trans_time'])\n",
    "df['year'] = df['trans_date_trans_time'].dt.year\n",
    "df['month'] = df['trans_date_trans_time'].dt.month\n",
    "\n",
    "# print(df.columns)\n",
    "df.head(1)\n",
    "print(df.dtypes)\n"
   ]
  },
  {
   "cell_type": "code",
   "execution_count": 4,
   "id": "e5c1ccea",
   "metadata": {
    "execution": {
     "iopub.execute_input": "2023-07-07T11:06:00.655185Z",
     "iopub.status.busy": "2023-07-07T11:06:00.654790Z",
     "iopub.status.idle": "2023-07-07T11:06:00.679087Z",
     "shell.execute_reply": "2023-07-07T11:06:00.677954Z"
    },
    "papermill": {
     "duration": 0.030709,
     "end_time": "2023-07-07T11:06:00.681225",
     "exception": false,
     "start_time": "2023-07-07T11:06:00.650516",
     "status": "completed"
    },
    "tags": []
   },
   "outputs": [
    {
     "name": "stdout",
     "output_type": "stream",
     "text": [
      "0    0.994211\n",
      "1    0.005789\n",
      "Name: is_fraud, dtype: float64\n"
     ]
    }
   ],
   "source": [
    "# Count the occurrences of each class\n",
    "class_counts = df['is_fraud'].value_counts()\n",
    "\n",
    "# Calculate the class distribution\n",
    "class_distribution = class_counts / len(df)\n",
    "\n",
    "print(class_distribution)"
   ]
  },
  {
   "cell_type": "code",
   "execution_count": 5,
   "id": "f163fb8e",
   "metadata": {
    "execution": {
     "iopub.execute_input": "2023-07-07T11:06:00.688955Z",
     "iopub.status.busy": "2023-07-07T11:06:00.688540Z",
     "iopub.status.idle": "2023-07-07T11:06:01.518510Z",
     "shell.execute_reply": "2023-07-07T11:06:01.517038Z"
    },
    "papermill": {
     "duration": 0.837483,
     "end_time": "2023-07-07T11:06:01.521684",
     "exception": false,
     "start_time": "2023-07-07T11:06:00.684201",
     "status": "completed"
    },
    "tags": []
   },
   "outputs": [
    {
     "data": {
      "text/plain": [
       "Unnamed: 0                        int64\n",
       "trans_date_trans_time    datetime64[ns]\n",
       "cc_num                            int64\n",
       "merchant                         object\n",
       "category                         object\n",
       "amt                             float64\n",
       "first                            object\n",
       "last                             object\n",
       "gender                           object\n",
       "street                           object\n",
       "city                              int64\n",
       "state                             int64\n",
       "zip                               int64\n",
       "lat                             float64\n",
       "long                            float64\n",
       "city_pop                          int64\n",
       "job                              object\n",
       "dob                              object\n",
       "trans_num                        object\n",
       "unix_time                         int64\n",
       "merch_lat                       float64\n",
       "merch_long                      float64\n",
       "is_fraud                          int64\n",
       "year                              int64\n",
       "month                             int64\n",
       "dtype: object"
      ]
     },
     "execution_count": 5,
     "metadata": {},
     "output_type": "execute_result"
    }
   ],
   "source": [
    "\n",
    "label_encoder = LabelEncoder()\n",
    "df['state'] = label_encoder.fit_transform(df['state'])\n",
    "df['city'] = label_encoder.fit_transform(df['city'])\n",
    "df.dtypes"
   ]
  },
  {
   "cell_type": "code",
   "execution_count": 6,
   "id": "deee4584",
   "metadata": {
    "execution": {
     "iopub.execute_input": "2023-07-07T11:06:01.529613Z",
     "iopub.status.busy": "2023-07-07T11:06:01.529219Z",
     "iopub.status.idle": "2023-07-07T11:06:01.603538Z",
     "shell.execute_reply": "2023-07-07T11:06:01.601773Z"
    },
    "papermill": {
     "duration": 0.081788,
     "end_time": "2023-07-07T11:06:01.606744",
     "exception": false,
     "start_time": "2023-07-07T11:06:01.524956",
     "status": "completed"
    },
    "tags": []
   },
   "outputs": [],
   "source": [
    "anomaly_inputs = ['city_pop', 'amt','lat','long','zip','year','month','merch_lat','merch_long','state','city']\n",
    "# Split the dataset into features (X) and labels (y)\n",
    "X = df[anomaly_inputs]  # Features\n",
    "y = df['is_fraud']  # Labels\n",
    "model_IF = IsolationForest(contamination=float(0.3),random_state=42)\n",
    "# model_IF = IsolationForest(n_estimators=100, max_samples='auto', contamination=0.02,\n",
    "#                       max_features=.8, bootstrap=True, n_jobs=-1, random_state=42,\n",
    "#                       verbose=0)\n"
   ]
  },
  {
   "cell_type": "code",
   "execution_count": 7,
   "id": "c4394418",
   "metadata": {
    "execution": {
     "iopub.execute_input": "2023-07-07T11:06:01.614904Z",
     "iopub.status.busy": "2023-07-07T11:06:01.614409Z",
     "iopub.status.idle": "2023-07-07T11:07:03.923425Z",
     "shell.execute_reply": "2023-07-07T11:07:03.921838Z"
    },
    "papermill": {
     "duration": 62.317729,
     "end_time": "2023-07-07T11:07:03.927605",
     "exception": false,
     "start_time": "2023-07-07T11:06:01.609876",
     "status": "completed"
    },
    "tags": []
   },
   "outputs": [
    {
     "name": "stderr",
     "output_type": "stream",
     "text": [
      "/opt/conda/lib/python3.10/site-packages/sklearn/base.py:439: UserWarning: X does not have valid feature names, but IsolationForest was fitted with feature names\n",
      "  warnings.warn(\n"
     ]
    },
    {
     "name": "stdout",
     "output_type": "stream",
     "text": [
      "              precision    recall  f1-score   support\n",
      "\n",
      "           0       1.00      0.70      0.82   1289169\n",
      "           1       0.01      0.75      0.03      7506\n",
      "\n",
      "    accuracy                           0.70   1296675\n",
      "   macro avg       0.51      0.73      0.43   1296675\n",
      "weighted avg       0.99      0.70      0.82   1296675\n",
      "\n"
     ]
    }
   ],
   "source": [
    "# Create and fit the Isolation Forest model\n",
    "model_IF.fit(X)\n",
    "\n",
    "# Generate outlier scores for instances\n",
    "outlier_scores = model_IF.decision_function(X)\n",
    "\n",
    "# Define a threshold to classify instances as anomalies or normal data\n",
    "threshold = 0.0\n",
    "\n",
    "# Convert outlier scores to binary labels based on the threshold\n",
    "predictions = [1 if score < threshold else 0 for score in outlier_scores]\n",
    "\n",
    "# Calculate precision, recall, and F1-score\n",
    "print(classification_report(y, predictions))"
   ]
  },
  {
   "cell_type": "code",
   "execution_count": 8,
   "id": "6fb6022d",
   "metadata": {
    "execution": {
     "iopub.execute_input": "2023-07-07T11:07:03.935478Z",
     "iopub.status.busy": "2023-07-07T11:07:03.935132Z",
     "iopub.status.idle": "2023-07-07T11:07:03.941192Z",
     "shell.execute_reply": "2023-07-07T11:07:03.939288Z"
    },
    "papermill": {
     "duration": 0.012661,
     "end_time": "2023-07-07T11:07:03.943532",
     "exception": false,
     "start_time": "2023-07-07T11:07:03.930871",
     "status": "completed"
    },
    "tags": []
   },
   "outputs": [],
   "source": [
    "# model_IF.fit(X)\n",
    "\n",
    "# # Predict the anomalies\n",
    "# if_prediction = model_IF.predict(X)\n",
    "# # Change the anomalies' values to make it consistent with the true values\n",
    "# if_prediction = [1 if i==-1 else 0 for i in if_prediction]\n",
    "# # Check the model performance\n",
    "# print(classification_report(y, if_prediction))"
   ]
  }
 ],
 "metadata": {
  "kernelspec": {
   "display_name": "Python 3",
   "language": "python",
   "name": "python3"
  },
  "language_info": {
   "codemirror_mode": {
    "name": "ipython",
    "version": 3
   },
   "file_extension": ".py",
   "mimetype": "text/x-python",
   "name": "python",
   "nbconvert_exporter": "python",
   "pygments_lexer": "ipython3",
   "version": "3.10.10"
  },
  "papermill": {
   "default_parameters": {},
   "duration": 93.344303,
   "end_time": "2023-07-07T11:07:05.273686",
   "environment_variables": {},
   "exception": null,
   "input_path": "__notebook__.ipynb",
   "output_path": "__notebook__.ipynb",
   "parameters": {},
   "start_time": "2023-07-07T11:05:31.929383",
   "version": "2.4.0"
  }
 },
 "nbformat": 4,
 "nbformat_minor": 5
}
