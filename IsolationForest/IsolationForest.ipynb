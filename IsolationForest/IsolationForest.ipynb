{
 "cells": [
  {
   "cell_type": "code",
   "execution_count": 1,
   "id": "c9f11fdc",
   "metadata": {
    "_cell_guid": "b1076dfc-b9ad-4769-8c92-a6c4dae69d19",
    "_uuid": "8f2839f25d086af736a60e9eeb907d3b93b6e0e5",
    "execution": {
     "iopub.execute_input": "2023-07-07T12:05:59.202713Z",
     "iopub.status.busy": "2023-07-07T12:05:59.202299Z",
     "iopub.status.idle": "2023-07-07T12:06:01.522559Z",
     "shell.execute_reply": "2023-07-07T12:06:01.521257Z"
    },
    "papermill": {
     "duration": 2.328945,
     "end_time": "2023-07-07T12:06:01.525262",
     "exception": false,
     "start_time": "2023-07-07T12:05:59.196317",
     "status": "completed"
    },
    "tags": []
   },
   "outputs": [],
   "source": [
    "import pandas as pd\n",
    "import seaborn as sns\n",
    "from sklearn.ensemble import IsolationForest\n",
    "from sklearn.metrics import accuracy_score, precision_score, recall_score, f1_score, confusion_matrix\n",
    "from sklearn.metrics import classification_report\n",
    "from sklearn.preprocessing import LabelEncoder\n",
    "from sklearn.model_selection import train_test_split\n"
   ]
  },
  {
   "cell_type": "code",
   "execution_count": 2,
   "id": "82684967",
   "metadata": {
    "execution": {
     "iopub.execute_input": "2023-07-07T12:06:01.534883Z",
     "iopub.status.busy": "2023-07-07T12:06:01.534498Z",
     "iopub.status.idle": "2023-07-07T12:06:15.319483Z",
     "shell.execute_reply": "2023-07-07T12:06:15.318357Z"
    },
    "papermill": {
     "duration": 13.793108,
     "end_time": "2023-07-07T12:06:15.322354",
     "exception": false,
     "start_time": "2023-07-07T12:06:01.529246",
     "status": "completed"
    },
    "tags": []
   },
   "outputs": [],
   "source": [
    "df = pd.read_csv('/kaggle/input/fraud-detection/fraudTrain.csv')"
   ]
  },
  {
   "cell_type": "code",
   "execution_count": 3,
   "id": "9e325b1e",
   "metadata": {
    "execution": {
     "iopub.execute_input": "2023-07-07T12:06:15.331957Z",
     "iopub.status.busy": "2023-07-07T12:06:15.331573Z",
     "iopub.status.idle": "2023-07-07T12:06:16.323292Z",
     "shell.execute_reply": "2023-07-07T12:06:16.322127Z"
    },
    "papermill": {
     "duration": 0.999652,
     "end_time": "2023-07-07T12:06:16.325888",
     "exception": false,
     "start_time": "2023-07-07T12:06:15.326236",
     "status": "completed"
    },
    "tags": []
   },
   "outputs": [
    {
     "name": "stdout",
     "output_type": "stream",
     "text": [
      "Unnamed: 0                        int64\n",
      "trans_date_trans_time    datetime64[ns]\n",
      "cc_num                            int64\n",
      "merchant                         object\n",
      "category                         object\n",
      "amt                             float64\n",
      "first                            object\n",
      "last                             object\n",
      "gender                           object\n",
      "street                           object\n",
      "city                             object\n",
      "state                            object\n",
      "zip                               int64\n",
      "lat                             float64\n",
      "long                            float64\n",
      "city_pop                          int64\n",
      "job                              object\n",
      "dob                              object\n",
      "trans_num                        object\n",
      "unix_time                         int64\n",
      "merch_lat                       float64\n",
      "merch_long                      float64\n",
      "is_fraud                          int64\n",
      "year                              int64\n",
      "month                             int64\n",
      "dtype: object\n"
     ]
    }
   ],
   "source": [
    "# Extract the desired numerical features from the datetime column\n",
    "df['trans_date_trans_time'] = pd.to_datetime(df['trans_date_trans_time'])\n",
    "df['year'] = df['trans_date_trans_time'].dt.year\n",
    "df['month'] = df['trans_date_trans_time'].dt.month\n",
    "\n",
    "# print(df.columns)\n",
    "df.head(1)\n",
    "print(df.dtypes)\n"
   ]
  },
  {
   "cell_type": "code",
   "execution_count": 4,
   "id": "2f0853f0",
   "metadata": {
    "execution": {
     "iopub.execute_input": "2023-07-07T12:06:16.335101Z",
     "iopub.status.busy": "2023-07-07T12:06:16.334699Z",
     "iopub.status.idle": "2023-07-07T12:06:16.359412Z",
     "shell.execute_reply": "2023-07-07T12:06:16.358021Z"
    },
    "papermill": {
     "duration": 0.032262,
     "end_time": "2023-07-07T12:06:16.361915",
     "exception": false,
     "start_time": "2023-07-07T12:06:16.329653",
     "status": "completed"
    },
    "tags": []
   },
   "outputs": [
    {
     "name": "stdout",
     "output_type": "stream",
     "text": [
      "0    0.994211\n",
      "1    0.005789\n",
      "Name: is_fraud, dtype: float64\n"
     ]
    }
   ],
   "source": [
    "# Count the occurrences of each class\n",
    "class_counts = df['is_fraud'].value_counts()\n",
    "\n",
    "# Calculate the class distribution\n",
    "class_distribution = class_counts / len(df)\n",
    "\n",
    "print(class_distribution)"
   ]
  },
  {
   "cell_type": "code",
   "execution_count": 5,
   "id": "6aeb1121",
   "metadata": {
    "execution": {
     "iopub.execute_input": "2023-07-07T12:06:16.372195Z",
     "iopub.status.busy": "2023-07-07T12:06:16.371157Z",
     "iopub.status.idle": "2023-07-07T12:06:18.259005Z",
     "shell.execute_reply": "2023-07-07T12:06:18.257881Z"
    },
    "papermill": {
     "duration": 1.895699,
     "end_time": "2023-07-07T12:06:18.261578",
     "exception": false,
     "start_time": "2023-07-07T12:06:16.365879",
     "status": "completed"
    },
    "tags": []
   },
   "outputs": [
    {
     "data": {
      "text/plain": [
       "Unnamed: 0                        int64\n",
       "trans_date_trans_time    datetime64[ns]\n",
       "cc_num                            int64\n",
       "merchant                         object\n",
       "category                          int64\n",
       "amt                             float64\n",
       "first                            object\n",
       "last                             object\n",
       "gender                           object\n",
       "street                           object\n",
       "city                              int64\n",
       "state                             int64\n",
       "zip                               int64\n",
       "lat                             float64\n",
       "long                            float64\n",
       "city_pop                          int64\n",
       "job                              object\n",
       "dob                              object\n",
       "trans_num                        object\n",
       "unix_time                         int64\n",
       "merch_lat                       float64\n",
       "merch_long                      float64\n",
       "is_fraud                          int64\n",
       "year                              int64\n",
       "month                             int64\n",
       "dtype: object"
      ]
     },
     "execution_count": 5,
     "metadata": {},
     "output_type": "execute_result"
    }
   ],
   "source": [
    "\n",
    "label_encoder = LabelEncoder()\n",
    "df['state'] = label_encoder.fit_transform(df['state'])\n",
    "df['city'] = label_encoder.fit_transform(df['city'])\n",
    "df['category'] = label_encoder.fit_transform(df['category'])\n",
    "df.dtypes"
   ]
  },
  {
   "cell_type": "code",
   "execution_count": 6,
   "id": "451e30cb",
   "metadata": {
    "execution": {
     "iopub.execute_input": "2023-07-07T12:06:18.272078Z",
     "iopub.status.busy": "2023-07-07T12:06:18.271694Z",
     "iopub.status.idle": "2023-07-07T12:06:18.402428Z",
     "shell.execute_reply": "2023-07-07T12:06:18.401431Z"
    },
    "papermill": {
     "duration": 0.139138,
     "end_time": "2023-07-07T12:06:18.405099",
     "exception": false,
     "start_time": "2023-07-07T12:06:18.265961",
     "status": "completed"
    },
    "tags": []
   },
   "outputs": [],
   "source": [
    "anomaly_inputs = ['city_pop', 'amt','zip','year','month','merch_lat','merch_long','state','city','category']\n",
    "# Split the dataset into features (X) and labels (y)\n",
    "X = df[anomaly_inputs]  # Features\n",
    "y = df['is_fraud']  # Labels\n",
    "model_IF = IsolationForest(contamination=float(0.3),random_state=42)\n",
    "# model_IF = IsolationForest(n_estimators=100, max_samples='auto', contamination=0.02,\n",
    "#                       max_features=.8, bootstrap=True, n_jobs=-1, random_state=42,\n",
    "#                       verbose=0)\n"
   ]
  },
  {
   "cell_type": "code",
   "execution_count": 7,
   "id": "c4e2013c",
   "metadata": {
    "execution": {
     "iopub.execute_input": "2023-07-07T12:06:18.415480Z",
     "iopub.status.busy": "2023-07-07T12:06:18.415063Z",
     "iopub.status.idle": "2023-07-07T12:07:02.496678Z",
     "shell.execute_reply": "2023-07-07T12:07:02.495254Z"
    },
    "papermill": {
     "duration": 44.093605,
     "end_time": "2023-07-07T12:07:02.503064",
     "exception": false,
     "start_time": "2023-07-07T12:06:18.409459",
     "status": "completed"
    },
    "tags": []
   },
   "outputs": [
    {
     "name": "stderr",
     "output_type": "stream",
     "text": [
      "/opt/conda/lib/python3.10/site-packages/sklearn/base.py:439: UserWarning: X does not have valid feature names, but IsolationForest was fitted with feature names\n",
      "  warnings.warn(\n"
     ]
    },
    {
     "name": "stdout",
     "output_type": "stream",
     "text": [
      "              precision    recall  f1-score   support\n",
      "\n",
      "           0       1.00      0.70      0.82    257815\n",
      "           1       0.01      0.75      0.03      1520\n",
      "\n",
      "    accuracy                           0.70    259335\n",
      "   macro avg       0.51      0.73      0.43    259335\n",
      "weighted avg       0.99      0.70      0.82    259335\n",
      "\n"
     ]
    }
   ],
   "source": [
    "X_train, X_test, y_train, y_test = train_test_split(X, y, test_size=0.2, random_state=42)\n",
    "\n",
    "# Create and fit the Isolation Forest model\n",
    "model_IF.fit(X_train)\n",
    "\n",
    "# Generate outlier scores for instances\n",
    "outlier_scores = model_IF.decision_function(X_test)\n",
    "\n",
    "# Define a threshold to classify instances as anomalies or normal data\n",
    "threshold = 0.0\n",
    "\n",
    "# Convert outlier scores to binary labels based on the threshold\n",
    "predictions = [1 if score < threshold else 0 for score in outlier_scores]\n",
    "\n",
    "# Calculate precision, recall, and F1-score\n",
    "print(classification_report(y_test, predictions))"
   ]
  },
  {
   "cell_type": "code",
   "execution_count": 8,
   "id": "d7ac0ef8",
   "metadata": {
    "execution": {
     "iopub.execute_input": "2023-07-07T12:07:02.514108Z",
     "iopub.status.busy": "2023-07-07T12:07:02.513630Z",
     "iopub.status.idle": "2023-07-07T12:07:02.518628Z",
     "shell.execute_reply": "2023-07-07T12:07:02.517442Z"
    },
    "papermill": {
     "duration": 0.013594,
     "end_time": "2023-07-07T12:07:02.521019",
     "exception": false,
     "start_time": "2023-07-07T12:07:02.507425",
     "status": "completed"
    },
    "tags": []
   },
   "outputs": [],
   "source": [
    "# model_IF.fit(X)\n",
    "\n",
    "# # Predict the anomalies\n",
    "# if_prediction = model_IF.predict(X_test)\n",
    "# # Change the anomalies' values to make it consistent with the true values\n",
    "# if_prediction = [1 if i==-1 else 0 for i in if_prediction]\n",
    "# # Check the model performance\n",
    "# print(classification_report(y_test, if_prediction))"
   ]
  }
 ],
 "metadata": {
  "kernelspec": {
   "display_name": "Python 3",
   "language": "python",
   "name": "python3"
  },
  "language_info": {
   "codemirror_mode": {
    "name": "ipython",
    "version": 3
   },
   "file_extension": ".py",
   "mimetype": "text/x-python",
   "name": "python",
   "nbconvert_exporter": "python",
   "pygments_lexer": "ipython3",
   "version": "3.10.10"
  },
  "papermill": {
   "default_parameters": {},
   "duration": 77.395219,
   "end_time": "2023-07-07T12:07:03.651264",
   "environment_variables": {},
   "exception": null,
   "input_path": "__notebook__.ipynb",
   "output_path": "__notebook__.ipynb",
   "parameters": {},
   "start_time": "2023-07-07T12:05:46.256045",
   "version": "2.4.0"
  }
 },
 "nbformat": 4,
 "nbformat_minor": 5
}
