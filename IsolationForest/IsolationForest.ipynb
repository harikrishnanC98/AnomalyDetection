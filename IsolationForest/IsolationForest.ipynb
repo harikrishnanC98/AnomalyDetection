{
 "cells": [
  {
   "cell_type": "code",
   "execution_count": 1,
   "id": "25dc0f9b",
   "metadata": {
    "_cell_guid": "b1076dfc-b9ad-4769-8c92-a6c4dae69d19",
    "_uuid": "8f2839f25d086af736a60e9eeb907d3b93b6e0e5",
    "execution": {
     "iopub.execute_input": "2023-07-02T02:39:45.349517Z",
     "iopub.status.busy": "2023-07-02T02:39:45.348468Z",
     "iopub.status.idle": "2023-07-02T02:39:47.035250Z",
     "shell.execute_reply": "2023-07-02T02:39:47.034353Z"
    },
    "papermill": {
     "duration": 1.693062,
     "end_time": "2023-07-02T02:39:47.037473",
     "exception": false,
     "start_time": "2023-07-02T02:39:45.344411",
     "status": "completed"
    },
    "tags": []
   },
   "outputs": [],
   "source": [
    "import pandas as pd\n",
    "import seaborn as sns\n",
    "from sklearn.ensemble import IsolationForest\n",
    "from sklearn.metrics import accuracy_score, precision_score, recall_score, f1_score, confusion_matrix\n",
    "from sklearn.metrics import classification_report\n",
    "from sklearn.preprocessing import LabelEncoder\n"
   ]
  },
  {
   "cell_type": "code",
   "execution_count": 2,
   "id": "75eabbb6",
   "metadata": {
    "execution": {
     "iopub.execute_input": "2023-07-02T02:39:47.043831Z",
     "iopub.status.busy": "2023-07-02T02:39:47.043241Z",
     "iopub.status.idle": "2023-07-02T02:39:56.522990Z",
     "shell.execute_reply": "2023-07-02T02:39:56.522059Z"
    },
    "papermill": {
     "duration": 9.485237,
     "end_time": "2023-07-02T02:39:56.525310",
     "exception": false,
     "start_time": "2023-07-02T02:39:47.040073",
     "status": "completed"
    },
    "tags": []
   },
   "outputs": [],
   "source": [
    "df = pd.read_csv('/kaggle/input/fraud-detection/fraudTrain.csv')"
   ]
  },
  {
   "cell_type": "code",
   "execution_count": 3,
   "id": "44fff9a8",
   "metadata": {
    "execution": {
     "iopub.execute_input": "2023-07-02T02:39:56.531990Z",
     "iopub.status.busy": "2023-07-02T02:39:56.531712Z",
     "iopub.status.idle": "2023-07-02T02:39:56.939205Z",
     "shell.execute_reply": "2023-07-02T02:39:56.938181Z"
    },
    "papermill": {
     "duration": 0.413386,
     "end_time": "2023-07-02T02:39:56.941391",
     "exception": false,
     "start_time": "2023-07-02T02:39:56.528005",
     "status": "completed"
    },
    "tags": []
   },
   "outputs": [
    {
     "name": "stdout",
     "output_type": "stream",
     "text": [
      "Unnamed: 0                        int64\n",
      "trans_date_trans_time    datetime64[ns]\n",
      "cc_num                            int64\n",
      "merchant                         object\n",
      "category                         object\n",
      "amt                             float64\n",
      "first                            object\n",
      "last                             object\n",
      "gender                           object\n",
      "street                           object\n",
      "city                             object\n",
      "state                            object\n",
      "zip                               int64\n",
      "lat                             float64\n",
      "long                            float64\n",
      "city_pop                          int64\n",
      "job                              object\n",
      "dob                              object\n",
      "trans_num                        object\n",
      "unix_time                         int64\n",
      "merch_lat                       float64\n",
      "merch_long                      float64\n",
      "is_fraud                          int64\n",
      "year                              int64\n",
      "month                             int64\n",
      "dtype: object\n"
     ]
    }
   ],
   "source": [
    "# Extract the desired numerical features from the datetime column\n",
    "df['trans_date_trans_time'] = pd.to_datetime(df['trans_date_trans_time'])\n",
    "df['year'] = df['trans_date_trans_time'].dt.year\n",
    "df['month'] = df['trans_date_trans_time'].dt.month\n",
    "\n",
    "# print(df.columns)\n",
    "df.head(1)\n",
    "print(df.dtypes)\n"
   ]
  },
  {
   "cell_type": "code",
   "execution_count": 4,
   "id": "71c7c1f5",
   "metadata": {
    "execution": {
     "iopub.execute_input": "2023-07-02T02:39:56.948657Z",
     "iopub.status.busy": "2023-07-02T02:39:56.948278Z",
     "iopub.status.idle": "2023-07-02T02:39:56.969872Z",
     "shell.execute_reply": "2023-07-02T02:39:56.968753Z"
    },
    "papermill": {
     "duration": 0.027643,
     "end_time": "2023-07-02T02:39:56.972035",
     "exception": false,
     "start_time": "2023-07-02T02:39:56.944392",
     "status": "completed"
    },
    "tags": []
   },
   "outputs": [
    {
     "name": "stdout",
     "output_type": "stream",
     "text": [
      "0    0.994211\n",
      "1    0.005789\n",
      "Name: is_fraud, dtype: float64\n"
     ]
    }
   ],
   "source": [
    "# Count the occurrences of each class\n",
    "class_counts = df['is_fraud'].value_counts()\n",
    "\n",
    "# Calculate the class distribution\n",
    "class_distribution = class_counts / len(df)\n",
    "\n",
    "print(class_distribution)"
   ]
  },
  {
   "cell_type": "code",
   "execution_count": 5,
   "id": "d3b4bd06",
   "metadata": {
    "execution": {
     "iopub.execute_input": "2023-07-02T02:39:56.978555Z",
     "iopub.status.busy": "2023-07-02T02:39:56.978264Z",
     "iopub.status.idle": "2023-07-02T02:39:57.758070Z",
     "shell.execute_reply": "2023-07-02T02:39:57.757137Z"
    },
    "papermill": {
     "duration": 0.78545,
     "end_time": "2023-07-02T02:39:57.760165",
     "exception": false,
     "start_time": "2023-07-02T02:39:56.974715",
     "status": "completed"
    },
    "tags": []
   },
   "outputs": [
    {
     "data": {
      "text/plain": [
       "Unnamed: 0                        int64\n",
       "trans_date_trans_time    datetime64[ns]\n",
       "cc_num                            int64\n",
       "merchant                         object\n",
       "category                         object\n",
       "amt                             float64\n",
       "first                            object\n",
       "last                             object\n",
       "gender                           object\n",
       "street                           object\n",
       "city                              int64\n",
       "state                             int64\n",
       "zip                               int64\n",
       "lat                             float64\n",
       "long                            float64\n",
       "city_pop                          int64\n",
       "job                              object\n",
       "dob                              object\n",
       "trans_num                        object\n",
       "unix_time                         int64\n",
       "merch_lat                       float64\n",
       "merch_long                      float64\n",
       "is_fraud                          int64\n",
       "year                              int64\n",
       "month                             int64\n",
       "dtype: object"
      ]
     },
     "execution_count": 5,
     "metadata": {},
     "output_type": "execute_result"
    }
   ],
   "source": [
    "\n",
    "label_encoder = LabelEncoder()\n",
    "df['state'] = label_encoder.fit_transform(df['state'])\n",
    "df['city'] = label_encoder.fit_transform(df['city'])\n",
    "df.dtypes"
   ]
  },
  {
   "cell_type": "code",
   "execution_count": 6,
   "id": "ffcb3226",
   "metadata": {
    "execution": {
     "iopub.execute_input": "2023-07-02T02:39:57.766943Z",
     "iopub.status.busy": "2023-07-02T02:39:57.766664Z",
     "iopub.status.idle": "2023-07-02T02:39:57.823091Z",
     "shell.execute_reply": "2023-07-02T02:39:57.821922Z"
    },
    "papermill": {
     "duration": 0.062492,
     "end_time": "2023-07-02T02:39:57.825502",
     "exception": false,
     "start_time": "2023-07-02T02:39:57.763010",
     "status": "completed"
    },
    "tags": []
   },
   "outputs": [],
   "source": [
    "anomaly_inputs = ['city_pop', 'amt','lat','long','zip','year','month','merch_lat','merch_long','state','city']\n",
    "# Split the dataset into features (X) and labels (y)\n",
    "X = df[anomaly_inputs]  # Features\n",
    "y = df['is_fraud']  # Labels\n",
    "model_IF = IsolationForest(contamination=float(0.05),random_state=42)\n"
   ]
  },
  {
   "cell_type": "code",
   "execution_count": 7,
   "id": "444098f0",
   "metadata": {
    "execution": {
     "iopub.execute_input": "2023-07-02T02:39:57.832340Z",
     "iopub.status.busy": "2023-07-02T02:39:57.832010Z",
     "iopub.status.idle": "2023-07-02T02:39:57.836519Z",
     "shell.execute_reply": "2023-07-02T02:39:57.835461Z"
    },
    "papermill": {
     "duration": 0.009753,
     "end_time": "2023-07-02T02:39:57.838176",
     "exception": false,
     "start_time": "2023-07-02T02:39:57.828423",
     "status": "completed"
    },
    "tags": []
   },
   "outputs": [],
   "source": [
    "# Create and fit the Isolation Forest model\n",
    "# model_IF.fit(X)\n",
    "\n",
    "# # Generate outlier scores for instances\n",
    "# outlier_scores = model_IF.decision_function(X)\n",
    "\n",
    "# # Define a threshold to classify instances as anomalies or normal data\n",
    "# threshold = 0.0\n",
    "\n",
    "# # Convert outlier scores to binary labels based on the threshold\n",
    "# predictions = [1 if score < threshold else 0 for score in outlier_scores]\n",
    "\n",
    "# # Calculate precision, recall, and F1-score\n",
    "# precision = precision_score(y, predictions)\n",
    "# recall = recall_score(y, predictions)\n",
    "# f1 = f1_score(y, predictions)\n",
    "\n",
    "# print(\"Precision:\", precision)\n",
    "# print(\"Recall:\", recall)\n",
    "# print(\"F1-score:\", f1)"
   ]
  },
  {
   "cell_type": "code",
   "execution_count": 8,
   "id": "72de238c",
   "metadata": {
    "execution": {
     "iopub.execute_input": "2023-07-02T02:39:57.844694Z",
     "iopub.status.busy": "2023-07-02T02:39:57.844451Z",
     "iopub.status.idle": "2023-07-02T02:40:52.224584Z",
     "shell.execute_reply": "2023-07-02T02:40:52.223216Z"
    },
    "papermill": {
     "duration": 54.389567,
     "end_time": "2023-07-02T02:40:52.230487",
     "exception": false,
     "start_time": "2023-07-02T02:39:57.840920",
     "status": "completed"
    },
    "tags": []
   },
   "outputs": [
    {
     "name": "stderr",
     "output_type": "stream",
     "text": [
      "/opt/conda/lib/python3.10/site-packages/sklearn/base.py:439: UserWarning: X does not have valid feature names, but IsolationForest was fitted with feature names\n",
      "  warnings.warn(\n"
     ]
    },
    {
     "name": "stdout",
     "output_type": "stream",
     "text": [
      "              precision    recall  f1-score   support\n",
      "\n",
      "           0       1.00      0.95      0.97   1289169\n",
      "           1       0.03      0.27      0.06      7506\n",
      "\n",
      "    accuracy                           0.95   1296675\n",
      "   macro avg       0.51      0.61      0.51   1296675\n",
      "weighted avg       0.99      0.95      0.97   1296675\n",
      "\n"
     ]
    }
   ],
   "source": [
    "model_IF.fit(X)\n",
    "\n",
    "# Predict the anomalies\n",
    "if_prediction = model_IF.predict(X)\n",
    "# Change the anomalies' values to make it consistent with the true values\n",
    "if_prediction = [1 if i==-1 else 0 for i in if_prediction]\n",
    "# Check the model performance\n",
    "print(classification_report(y, if_prediction))"
   ]
  }
 ],
 "metadata": {
  "kernelspec": {
   "display_name": "Python 3",
   "language": "python",
   "name": "python3"
  },
  "language_info": {
   "codemirror_mode": {
    "name": "ipython",
    "version": 3
   },
   "file_extension": ".py",
   "mimetype": "text/x-python",
   "name": "python",
   "nbconvert_exporter": "python",
   "pygments_lexer": "ipython3",
   "version": "3.10.10"
  },
  "papermill": {
   "default_parameters": {},
   "duration": 75.936631,
   "end_time": "2023-07-02T02:40:53.157152",
   "environment_variables": {},
   "exception": null,
   "input_path": "__notebook__.ipynb",
   "output_path": "__notebook__.ipynb",
   "parameters": {},
   "start_time": "2023-07-02T02:39:37.220521",
   "version": "2.4.0"
  }
 },
 "nbformat": 4,
 "nbformat_minor": 5
}
